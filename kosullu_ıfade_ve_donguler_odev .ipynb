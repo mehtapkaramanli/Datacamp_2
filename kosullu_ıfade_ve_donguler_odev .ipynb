{
 "cells": [
  {
   "cell_type": "markdown",
   "metadata": {},
   "source": [
    "Birinci soru"
   ]
  },
  {
   "cell_type": "code",
   "execution_count": 1,
   "metadata": {},
   "outputs": [
    {
     "name": "stdout",
     "output_type": "stream",
     "text": [
      "Derece giriniz:40C\n",
      "104.0F\n"
     ]
    }
   ],
   "source": [
    "sicaklik=input(\"Derece giriniz:\")\n",
    "s=sicaklik[::-1]\n",
    "deger=int(sicaklik[:(len(s)-1)])\n",
    "if (s[0]==\"C\"):\n",
    "    sondeger=9/5*deger+32\n",
    "    cevrilmisdeger=str(sondeger)+\"F\"\n",
    "elif (s[0]==\"F\"):\n",
    "    sondeger = (5/9)*(deger - 32)\n",
    "    cevrilmisdeger=str(sondeger)+\"C\"\n",
    "print(cevrilmisdeger)"
   ]
  },
  {
   "cell_type": "markdown",
   "metadata": {},
   "source": [
    "İkinci soru"
   ]
  },
  {
   "cell_type": "code",
   "execution_count": 2,
   "metadata": {},
   "outputs": [
    {
     "name": "stdout",
     "output_type": "stream",
     "text": [
      "kelime giriniz:araba\n",
      "abara\n"
     ]
    }
   ],
   "source": [
    "kelime=input(\"kelime giriniz:\")\n",
    "kelimeters=kelime[::-1]\n",
    "print(kelimeters)"
   ]
  },
  {
   "cell_type": "markdown",
   "metadata": {},
   "source": [
    "ucuncu soru"
   ]
  },
  {
   "cell_type": "code",
   "execution_count": 7,
   "metadata": {},
   "outputs": [
    {
     "name": "stdout",
     "output_type": "stream",
     "text": [
      "[1, 1, 2, 3, 5, 8, 13, 21, 34]\n"
     ]
    }
   ],
   "source": [
    "fibonacci=[1,1]\n",
    "yeni=1\n",
    "while(yeni<50):\n",
    "    yeni=fibonacci[0]+fibonacci[1]\n",
    "    if(yeni<50):\n",
    "        fibonacci.insert(0,yeni)\n",
    "fibonacci=fibonacci[::-1]\n",
    "print(fibonacci)"
   ]
  },
  {
   "cell_type": "markdown",
   "metadata": {},
   "source": [
    "dorduncu soru:"
   ]
  },
  {
   "cell_type": "code",
   "execution_count": 3,
   "metadata": {},
   "outputs": [
    {
     "name": "stdout",
     "output_type": "stream",
     "text": [
      "Bir sayı giriniz:4\n",
      "4 * 1 = 4\n",
      "4 * 2 = 8\n",
      "4 * 3 = 12\n",
      "4 * 4 = 16\n",
      "4 * 5 = 20\n",
      "4 * 6 = 24\n",
      "4 * 7 = 28\n",
      "4 * 8 = 32\n",
      "4 * 9 = 36\n",
      "4 * 10 = 40\n"
     ]
    }
   ],
   "source": [
    "girilen_sayi=int(input(\"Bir sayı giriniz:\"))\n",
    "for i in range(1,11):\n",
    "    print(\"{} * {} = {}\".format(girilen_sayi,i,girilen_sayi*i))\n",
    "\n"
   ]
  },
  {
   "cell_type": "markdown",
   "metadata": {},
   "source": [
    "beşinci soru"
   ]
  },
  {
   "cell_type": "code",
   "execution_count": 4,
   "metadata": {},
   "outputs": [
    {
     "name": "stdout",
     "output_type": "stream",
     "text": [
      "[0, 1, 8, 9, 64, 25, 216, 49, 512, 81, 1000, 121, 1728, 169, 2744, 225, 4096, 289, 5832, 361]\n"
     ]
    }
   ],
   "source": [
    "liste= []\n",
    "for i in range(20):\n",
    "    if i % 2 == 0:\n",
    "        liste.append(i**3)\n",
    "    else:\n",
    "        liste.append(i ** 2)\n",
    "print(liste)"
   ]
  },
  {
   "cell_type": "code",
   "execution_count": null,
   "metadata": {},
   "outputs": [],
   "source": []
  }
 ],
 "metadata": {
  "kernelspec": {
   "display_name": "Python 3",
   "language": "python",
   "name": "python3"
  },
  "language_info": {
   "codemirror_mode": {
    "name": "ipython",
    "version": 3
   },
   "file_extension": ".py",
   "mimetype": "text/x-python",
   "name": "python",
   "nbconvert_exporter": "python",
   "pygments_lexer": "ipython3",
   "version": "3.7.1"
  }
 },
 "nbformat": 4,
 "nbformat_minor": 2
}
