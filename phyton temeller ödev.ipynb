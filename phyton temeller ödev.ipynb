{
 "cells": [
  {
   "cell_type": "markdown",
   "metadata": {},
   "source": [
    "birinci soru"
   ]
  },
  {
   "cell_type": "code",
   "execution_count": 10,
   "metadata": {},
   "outputs": [
    {
     "name": "stdout",
     "output_type": "stream",
     "text": [
      "1000\n",
      "1120.0\n",
      "1254.4\n",
      "1404.9280000000003\n",
      "1573.5193600000005\n",
      "1762.3416832000007\n",
      "1973.822685184001\n",
      "2210.6814074060812\n"
     ]
    }
   ],
   "source": [
    "gunsonudeger=lambda x: x*1.12\n",
    "ilkdeger=1000\n",
    "for i in range(0,7):\n",
    "    print(ilkdeger)\n",
    "    ilkdeger=gunsonudeger(ilkdeger)\n",
    "print(ilkdeger)"
   ]
  },
  {
   "cell_type": "markdown",
   "metadata": {},
   "source": [
    "ikinci soru"
   ]
  },
  {
   "cell_type": "code",
   "execution_count": 11,
   "metadata": {},
   "outputs": [
    {
     "name": "stdout",
     "output_type": "stream",
     "text": [
      "Hafta başında 1000 dolarlık bitcoin aldığımızda günde ortalama %12 kazançla, bir hafta sonunda 1210.68 dolar kazanırdık\n"
     ]
    }
   ],
   "source": [
    "print(\"Hafta başında {} dolarlık bitcoin aldığımızda günde ortalama %{} kazançla, bir hafta sonunda {} dolar kazanırdık\".format(1000,12,1210.68))"
   ]
  },
  {
   "cell_type": "markdown",
   "metadata": {},
   "source": [
    "ücüncü soru"
   ]
  },
  {
   "cell_type": "code",
   "execution_count": 12,
   "metadata": {},
   "outputs": [
    {
     "name": "stdout",
     "output_type": "stream",
     "text": [
      "Dosya adı giriniz:deneme\n",
      "deneme.py\n"
     ]
    }
   ],
   "source": [
    "Dosyaadi=input(\"Dosya adı giriniz:\")\n",
    "print(Dosyaadi+\".py\")"
   ]
  },
  {
   "cell_type": "code",
   "execution_count": null,
   "metadata": {},
   "outputs": [],
   "source": []
  }
 ],
 "metadata": {
  "kernelspec": {
   "display_name": "Python 3",
   "language": "python",
   "name": "python3"
  },
  "language_info": {
   "codemirror_mode": {
    "name": "ipython",
    "version": 3
   },
   "file_extension": ".py",
   "mimetype": "text/x-python",
   "name": "python",
   "nbconvert_exporter": "python",
   "pygments_lexer": "ipython3",
   "version": "3.7.1"
  }
 },
 "nbformat": 4,
 "nbformat_minor": 2
}
