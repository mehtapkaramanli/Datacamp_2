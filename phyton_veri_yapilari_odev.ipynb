{
 "cells": [
  {
   "cell_type": "markdown",
   "metadata": {},
   "source": [
    "ilk soru"
   ]
  },
  {
   "cell_type": "code",
   "execution_count": 1,
   "metadata": {},
   "outputs": [],
   "source": [
    "hafta={1:'pazartesi',2:'sali',3:'carsamba',4:'persembe',5:'cuma',6:'cumartesi',7:'pazar'}"
   ]
  },
  {
   "cell_type": "code",
   "execution_count": 2,
   "metadata": {},
   "outputs": [],
   "source": [
    "hafta"
   ]
  },
  {
   "cell_type": "code",
   "execution_count": 3,
   "metadata": {},
   "outputs": [
    {
     "name": "stdout",
     "output_type": "stream",
     "text": [
      "2 farklı günü asagıdaki sayı degerleriyle secim yapınız\n",
      " 1: 'pazartesi',\n",
      " 2: 'sali',\n",
      " 3: 'carsamba',\n",
      " 4: 'persembe',\n",
      " 5: 'cuma',\n",
      " 6: 'cumartesi',\n",
      " 7: 'pazar'\n"
     ]
    }
   ],
   "source": [
    "print(\"\"\"2 farklı günü asagıdaki sayı degerleriyle secim yapınız\n",
    " 1: 'pazartesi',\n",
    " 2: 'sali',\n",
    " 3: 'carsamba',\n",
    " 4: 'persembe',\n",
    " 5: 'cuma',\n",
    " 6: 'cumartesi',\n",
    " 7: 'pazar'\"\"\")"
   ]
  },
  {
   "cell_type": "code",
   "execution_count": 4,
   "metadata": {},
   "outputs": [
    {
     "name": "stdout",
     "output_type": "stream",
     "text": [
      "ilk seciminiz:1\n",
      "ikinci seciminiz:2\n",
      "son sozluk degerleri\n",
      " {3: 'carsamba', 4: 'persembe', 5: 'cuma', 6: 'cumartesi', 7: 'pazar'}\n"
     ]
    }
   ],
   "source": [
    "birincideger=int(input(\"ilk seciminiz:\"))\n",
    "ikincideger=int(input(\"ikinci seciminiz:\"))\n",
    "del hafta[birincideger]\n",
    "del hafta[ikincideger]\n",
    "print(\"son sozluk degerleri\\n\", hafta)"
   ]
  },
  {
   "cell_type": "markdown",
   "metadata": {},
   "source": [
    "ikinci soru"
   ]
  },
  {
   "cell_type": "code",
   "execution_count": 5,
   "metadata": {},
   "outputs": [],
   "source": [
    "aylar=[\"ocak\",\"subat\",\"mart\",\"nisan\",\"mayıs\",\"haziran\",\"temmuz\",\"agustos\",\"eylul\",\"ekim\",\"kasim\",\"aralik\"]\n",
    "gunsayisi=[31,28,31,30,31,30,31,31,30,31,30,31]"
   ]
  },
  {
   "cell_type": "code",
   "execution_count": 6,
   "metadata": {},
   "outputs": [
    {
     "name": "stdout",
     "output_type": "stream",
     "text": [
      "[('ocak', 31), ('subat', 28), ('mart', 31), ('nisan', 30), ('mayıs', 31), ('haziran', 30), ('temmuz', 31), ('agustos', 31), ('eylul', 30), ('ekim', 31), ('kasim', 30), ('aralik', 31)]\n"
     ]
    }
   ],
   "source": [
    "liste=list([])\n",
    "for i in range(0,12):\n",
    "    liste.append((aylar[i],gunsayisi[i]))\n",
    "print(liste)"
   ]
  },
  {
   "cell_type": "markdown",
   "metadata": {},
   "source": [
    "ucuncu soru"
   ]
  },
  {
   "cell_type": "code",
   "execution_count": 10,
   "metadata": {},
   "outputs": [],
   "source": [
    "liste2=list()\n",
    "listeay=list()\n",
    "listegun=list()\n",
    "for i in range(0,12):\n",
    "    listeay.append(liste[i][0])\n",
    "    listegun.append(liste[i][1])\n",
    "liste2=[listeay,listegun]"
   ]
  },
  {
   "cell_type": "code",
   "execution_count": 11,
   "metadata": {},
   "outputs": [
    {
     "data": {
      "text/plain": [
       "[['ocak',\n",
       "  'subat',\n",
       "  'mart',\n",
       "  'nisan',\n",
       "  'mayıs',\n",
       "  'haziran',\n",
       "  'temmuz',\n",
       "  'agustos',\n",
       "  'eylul',\n",
       "  'ekim',\n",
       "  'kasim',\n",
       "  'aralik'],\n",
       " [31, 28, 31, 30, 31, 30, 31, 31, 30, 31, 30, 31]]"
      ]
     },
     "execution_count": 11,
     "metadata": {},
     "output_type": "execute_result"
    }
   ],
   "source": [
    "liste2"
   ]
  },
  {
   "cell_type": "markdown",
   "metadata": {},
   "source": [
    "dorduncu soru"
   ]
  },
  {
   "cell_type": "code",
   "execution_count": 14,
   "metadata": {},
   "outputs": [],
   "source": [
    "kismevsim=[listeay[0],listeay[1],listeay[11]]\n",
    "baharmevsim=listeay[2:5]\n",
    "yazmevsim=listeay[5:8]\n",
    "sonbaharmevsim=listeay[8:11]"
   ]
  },
  {
   "cell_type": "markdown",
   "metadata": {},
   "source": [
    "besinci soru"
   ]
  },
  {
   "cell_type": "code",
   "execution_count": 18,
   "metadata": {},
   "outputs": [
    {
     "data": {
      "text/plain": [
       "92"
      ]
     },
     "execution_count": 18,
     "metadata": {},
     "output_type": "execute_result"
    }
   ],
   "source": [
    "j=yazkacgun=0\n",
    "for i in range(0,12):\n",
    "    if(liste[i][0]==yazmevsim[j]):\n",
    "        yazkacgun+=liste[i][1]\n",
    "        j+=1\n",
    "        i=0\n",
    "        if(j==3):\n",
    "            break\n",
    "yazkacgun\n",
    "        "
   ]
  },
  {
   "cell_type": "code",
   "execution_count": null,
   "metadata": {},
   "outputs": [],
   "source": []
  },
  {
   "cell_type": "code",
   "execution_count": null,
   "metadata": {},
   "outputs": [],
   "source": []
  },
  {
   "cell_type": "code",
   "execution_count": null,
   "metadata": {},
   "outputs": [],
   "source": []
  },
  {
   "cell_type": "code",
   "execution_count": null,
   "metadata": {},
   "outputs": [],
   "source": []
  },
  {
   "cell_type": "code",
   "execution_count": null,
   "metadata": {},
   "outputs": [],
   "source": []
  },
  {
   "cell_type": "code",
   "execution_count": null,
   "metadata": {},
   "outputs": [],
   "source": []
  },
  {
   "cell_type": "code",
   "execution_count": null,
   "metadata": {},
   "outputs": [],
   "source": []
  },
  {
   "cell_type": "code",
   "execution_count": null,
   "metadata": {},
   "outputs": [],
   "source": []
  }
 ],
 "metadata": {
  "kernelspec": {
   "display_name": "Python 3",
   "language": "python",
   "name": "python3"
  },
  "language_info": {
   "codemirror_mode": {
    "name": "ipython",
    "version": 3
   },
   "file_extension": ".py",
   "mimetype": "text/x-python",
   "name": "python",
   "nbconvert_exporter": "python",
   "pygments_lexer": "ipython3",
   "version": "3.7.1"
  }
 },
 "nbformat": 4,
 "nbformat_minor": 2
}
